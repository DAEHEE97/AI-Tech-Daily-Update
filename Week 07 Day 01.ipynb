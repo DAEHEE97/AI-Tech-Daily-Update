{
 "cells": [
  {
   "cell_type": "markdown",
   "id": "c40f2b49",
   "metadata": {},
   "source": [
    "# Week 07 Day 01\n",
    "\n",
    "- 2023년 12월 18일 (월)"
   ]
  },
  {
   "cell_type": "markdown",
   "id": "ef4da240",
   "metadata": {},
   "source": [
    "---"
   ]
  },
  {
   "cell_type": "markdown",
   "id": "e1cf8d7e",
   "metadata": {},
   "source": [
    "## Insights\n",
    "\n",
    "1) [RecSys-Lv1] Book Rating Prediction\n",
    "    - DCN (Deep & Cross Network)\n",
    "        - main.py\n",
    "        - dl_data.py\n",
    "        - DCN_model.py\n",
    "\n",
    "    - EDA\n",
    "        - Ratings 데이터, 1인 1책 데이터 제거 후 처리\n",
    "        - 활성화 함수 변경\n",
    "        - 하이퍼 파라미터 변경\n",
    "\n"
   ]
  },
  {
   "cell_type": "markdown",
   "id": "f939a5e6",
   "metadata": {},
   "source": [
    "---"
   ]
  },
  {
   "cell_type": "markdown",
   "id": "e29a9b1e",
   "metadata": {},
   "source": [
    "## Peer session\n",
    "\n",
    "- 내일 아침까지 모델링 및 EDA, 목요일 앙상블 및 파라미터 조정\n",
    "\n",
    "- 멘토링\n",
    "    - 테스트 통합 관리 및 테스트 \n",
    "   "
   ]
  },
  {
   "cell_type": "markdown",
   "id": "f1a73bf8",
   "metadata": {},
   "source": [
    "---"
   ]
  },
  {
   "cell_type": "markdown",
   "id": "8f6fdb95",
   "metadata": {},
   "source": [
    "## Wrap-up\n",
    "\n",
    "- 대회 쉽지 않다. \n",
    "\n",
    "- 루틴\n",
    "    - 1 day 1 update\n",
    "    - 식사 후 산책 or 휴식\n",
    "    - 도핑\n",
    "    - 17:30 ~ 19:00 \n",
    "    - 운동\n",
    "\n",
    "- 버닝, 성장, 감사, 과정, 1.5, connecting the dots, 비즈니스 의사결정, 비즈니스 임팩트\n"
   ]
  },
  {
   "cell_type": "markdown",
   "id": "15fd75c1",
   "metadata": {},
   "source": [
    "---"
   ]
  }
 ],
 "metadata": {
  "kernelspec": {
   "display_name": "Python 3 (ipykernel)",
   "language": "python",
   "name": "python3"
  },
  "language_info": {
   "codemirror_mode": {
    "name": "ipython",
    "version": 3
   },
   "file_extension": ".py",
   "mimetype": "text/x-python",
   "name": "python",
   "nbconvert_exporter": "python",
   "pygments_lexer": "ipython3",
   "version": "3.8.16"
  },
  "toc": {
   "base_numbering": 1,
   "nav_menu": {},
   "number_sections": true,
   "sideBar": true,
   "skip_h1_title": false,
   "title_cell": "Table of Contents",
   "title_sidebar": "Contents",
   "toc_cell": false,
   "toc_position": {
    "height": "calc(100% - 180px)",
    "left": "10px",
    "top": "150px",
    "width": "367.472839px"
   },
   "toc_section_display": true,
   "toc_window_display": true
  },
  "varInspector": {
   "cols": {
    "lenName": 16,
    "lenType": 16,
    "lenVar": 40
   },
   "kernels_config": {
    "python": {
     "delete_cmd_postfix": "",
     "delete_cmd_prefix": "del ",
     "library": "var_list.py",
     "varRefreshCmd": "print(var_dic_list())"
    },
    "r": {
     "delete_cmd_postfix": ") ",
     "delete_cmd_prefix": "rm(",
     "library": "var_list.r",
     "varRefreshCmd": "cat(var_dic_list()) "
    }
   },
   "types_to_exclude": [
    "module",
    "function",
    "builtin_function_or_method",
    "instance",
    "_Feature"
   ],
   "window_display": false
  }
 },
 "nbformat": 4,
 "nbformat_minor": 5
}

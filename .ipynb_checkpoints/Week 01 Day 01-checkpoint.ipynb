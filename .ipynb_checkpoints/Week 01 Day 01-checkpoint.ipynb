{
 "cells": [
  {
   "cell_type": "markdown",
   "id": "c40f2b49",
   "metadata": {},
   "source": [
    "# Week 01 Day 01 \n",
    "\n",
    "- 2023년 11월 06일 (월)"
   ]
  },
  {
   "cell_type": "markdown",
   "id": "ef4da240",
   "metadata": {},
   "source": [
    "---"
   ]
  },
  {
   "cell_type": "markdown",
   "id": "e1cf8d7e",
   "metadata": {},
   "source": [
    "## Insights\n",
    "\n",
    "1) [Python] 01. 파이썬 AI 개발 환경\n",
    "\n",
    "    - [Python] (1-1) Basic Computer Class for Newbies\n",
    "    \n",
    "    - [Python] (1-2) Python Overview\n",
    "    \n",
    "    - [Python] (1-3) Python Develop Environment\n",
    "    \n",
    "2) [Python] 02. 파이썬 기초 문법 I\n",
    "\n",
    "    - [Python] (2-1) Variables\n",
    "        - John von Neumann 아키텍처\n",
    "        - Memory Allocation and Management in Python\n",
    "        \n",
    "    - [Python] (2-2) Function and Console I/O\n",
    "    \n",
    "    - [Python] (2-3) Conditionals and Loops\n",
    "        - 삼항 연산자(Ternary operators)\n",
    "        - 반복 제어 else"
   ]
  },
  {
   "cell_type": "markdown",
   "id": "f939a5e6",
   "metadata": {},
   "source": [
    "---"
   ]
  },
  {
   "cell_type": "markdown",
   "id": "e29a9b1e",
   "metadata": {},
   "source": [
    "## Peer session\n",
    "\n",
    "- 시대에 뒤쳐진 네부캠 7조\n",
    "    - Github\n",
    "    - Notion  \n",
    "    - Slack\n",
    "    - Zoom"
   ]
  },
  {
   "cell_type": "markdown",
   "id": "f1a73bf8",
   "metadata": {},
   "source": [
    "---"
   ]
  },
  {
   "cell_type": "markdown",
   "id": "8f6fdb95",
   "metadata": {},
   "source": [
    "## Wrap-up\n",
    "\n",
    "- 첫 날 OT 대만족, 힘들 때 OT 다시 보기\n",
    "\n",
    "- 루틴 만들기\n",
    "    - 1 day 1 update\n",
    "    - 운동\n",
    "    \n",
    "- 멋쟁이 거북이, 깊숙한 공부, 성장"
   ]
  },
  {
   "cell_type": "markdown",
   "id": "15fd75c1",
   "metadata": {},
   "source": [
    "---"
   ]
  }
 ],
 "metadata": {
  "kernelspec": {
   "display_name": "Python 3 (ipykernel)",
   "language": "python",
   "name": "python3"
  },
  "language_info": {
   "codemirror_mode": {
    "name": "ipython",
    "version": 3
   },
   "file_extension": ".py",
   "mimetype": "text/x-python",
   "name": "python",
   "nbconvert_exporter": "python",
   "pygments_lexer": "ipython3",
   "version": "3.8.16"
  },
  "toc": {
   "base_numbering": 1,
   "nav_menu": {},
   "number_sections": true,
   "sideBar": true,
   "skip_h1_title": false,
   "title_cell": "Table of Contents",
   "title_sidebar": "Contents",
   "toc_cell": false,
   "toc_position": {},
   "toc_section_display": true,
   "toc_window_display": false
  },
  "varInspector": {
   "cols": {
    "lenName": 16,
    "lenType": 16,
    "lenVar": 40
   },
   "kernels_config": {
    "python": {
     "delete_cmd_postfix": "",
     "delete_cmd_prefix": "del ",
     "library": "var_list.py",
     "varRefreshCmd": "print(var_dic_list())"
    },
    "r": {
     "delete_cmd_postfix": ") ",
     "delete_cmd_prefix": "rm(",
     "library": "var_list.r",
     "varRefreshCmd": "cat(var_dic_list()) "
    }
   },
   "types_to_exclude": [
    "module",
    "function",
    "builtin_function_or_method",
    "instance",
    "_Feature"
   ],
   "window_display": false
  }
 },
 "nbformat": 4,
 "nbformat_minor": 5
}
